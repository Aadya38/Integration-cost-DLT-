{
  "nbformat": 4,
  "nbformat_minor": 0,
  "metadata": {
    "colab": {
      "provenance": [],
      "gpuType": "T4"
    },
    "kernelspec": {
      "name": "python3",
      "display_name": "Python 3"
    },
    "language_info": {
      "name": "python"
    },
    "accelerator": "GPU"
  },
  "cells": [
    {
      "cell_type": "code",
      "execution_count": null,
      "metadata": {
        "id": "yVnXzp5KfR8D"
      },
      "outputs": [],
      "source": [
        "import pandas as pd\n",
        "\n",
        "# Load the CSV file with proper handling of tabs and quotes, ensuring commas inside quotes are part of the text\n",
        "df = pd.read_csv('sona_dep.csv', delimiter='\\t', header=None, quotechar='\"', skipinitialspace=True)\n",
        "\n",
        "# Remove the \"word.\" part from the first column while preserving decimal values\n",
        "df[0] = df[0].astype(str).str.replace(\"word.\", \"\", regex=False)\n",
        "\n",
        "# Save the cleaned DataFrame to a new CSV file\n",
        "df.to_csv('sona_dep1.csv', index=False, sep='\\t', header=False)\n"
      ]
    },
    {
      "cell_type": "code",
      "source": [
        "import pandas as pd\n",
        "\n",
        "# Load the CSV data from a file\n",
        "input_file = 'sona_dep1.csv'  # Change this to your actual input file path\n",
        "output_file = 'sona_dep2.csv'     # Output file path\n",
        "\n",
        "# Read the CSV file with the correct delimiter\n",
        "df = pd.read_csv(input_file, sep=\",\", header=None, dtype=str)\n",
        "\n",
        "# Define a function to modify the 4th column\n",
        "def add_suffix(row):\n",
        "    # Ensure the first column value is a string\n",
        "    first_col_value = str(row[0])  # Convert to string to avoid AttributeError\n",
        "    suffix = first_col_value.split('.')[0] + \".\"\n",
        "    # Modify the 4th column value\n",
        "    return suffix + str((row[3]))\n",
        "\n",
        "# Apply the function to the 4th column (index 3), handling NaN values\n",
        "df[3] = df.apply(lambda row: add_suffix(row) if pd.notnull(row[0]) else row[3], axis=1)\n",
        "\n",
        "# Save the modified DataFrame to a new CSV file\n",
        "df.to_csv(output_file, sep=',', index=False, header=False)"
      ],
      "metadata": {
        "id": "xNt28qbNkXJi"
      },
      "execution_count": null,
      "outputs": []
    },
    {
      "cell_type": "code",
      "source": [
        "import pandas as pd\n",
        "\n",
        "# Load the CSV file\n",
        "# Replace 'your_file.csv' with the path to your CSV file\n",
        "df = pd.read_csv('sona_dep2.csv', header=None, names=['index', 'word', 'pos', 'value', 'connect'], dtype=str)\n",
        "\n",
        "# Initialize the distance column\n",
        "df['distance'] = 0\n",
        "\n",
        "# Calculate distances\n",
        "for i, row in df.iterrows():\n",
        "    for j, target_row in df.iterrows():\n",
        "        # A word is connected if its connect value matches the index value of another word\n",
        "        if row['value'] == target_row['index'] and row['index'] != target_row['index']:\n",
        "            distance_value = abs(i - j)-1  # Calculate the distance as the difference in indices\n",
        "            df.at[j, 'distance'] += distance_value  # Update distance for the target_row\n",
        "\n",
        "# Save the updated DataFrame to a new CSV file\n",
        "# Set float_format to ensure that the values in the fourth column retain their formatting\n",
        "df.to_csv('sona_dep3.csv', index=False, header=False, float_format='%.2f')"
      ],
      "metadata": {
        "id": "4bt2c5hbIAhY"
      },
      "execution_count": null,
      "outputs": []
    }
  ]
}